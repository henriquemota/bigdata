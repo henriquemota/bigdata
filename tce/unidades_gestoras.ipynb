{
 "cells": [
  {
   "cell_type": "code",
   "execution_count": 4,
   "id": "8e97526b",
   "metadata": {},
   "outputs": [],
   "source": [
    "import pandas as pd\n",
    "import requests"
   ]
  },
  {
   "cell_type": "code",
   "execution_count": null,
   "id": "7b544eb7",
   "metadata": {},
   "outputs": [],
   "source": [
    "# unidades gestoras\n",
    "codigo_municipio = \"111\"\n",
    "exercicio_orcamento = \"2025\"\n",
    "api_url = f\"https://api-dados-abertos.tce.ce.gov.br/unidades_gestoras?codigo_municipio={codigo_municipio}&exercicio_orcamento={exercicio_orcamento}00\""
   ]
  },
  {
   "cell_type": "code",
   "execution_count": 6,
   "id": "5351c363",
   "metadata": {},
   "outputs": [],
   "source": [
    "res = requests.get(api_url)"
   ]
  },
  {
   "cell_type": "code",
   "execution_count": 18,
   "id": "cad4b79c",
   "metadata": {},
   "outputs": [
    {
     "name": "stdout",
     "output_type": "stream",
     "text": [
      "[{'codigo_municipio': '111', 'exercicio_orcamento': 202500, 'codigo_unidade_gestora': 4, 'data_referencia': 202501, 'nome_unidade_gestora': 'Fundo Municipal de Saude', 'data_criacao': '2025-01-01T03:00:00.000Z', 'data_extincao': None, 'numero_lei_criacao': '00427/01'}, {'codigo_municipio': '111', 'exercicio_orcamento': 202500, 'codigo_unidade_gestora': 6, 'data_referencia': 202501, 'nome_unidade_gestora': 'Fundo Municipal de Assistencia Social', 'data_criacao': '2025-01-01T03:00:00.000Z', 'data_extincao': None, 'numero_lei_criacao': '00427/01'}, {'codigo_municipio': '111', 'exercicio_orcamento': 202500, 'codigo_unidade_gestora': 8, 'data_referencia': 202501, 'nome_unidade_gestora': 'Gabinete do Prefeito', 'data_criacao': '2025-01-01T03:00:00.000Z', 'data_extincao': None, 'numero_lei_criacao': '00427/01'}, {'codigo_municipio': '111', 'exercicio_orcamento': 202500, 'codigo_unidade_gestora': 11, 'data_referencia': 202501, 'nome_unidade_gestora': 'Secretaria de Administracao', 'data_criacao': '2025-01-01T03:00:00.000Z', 'data_extincao': None, 'numero_lei_criacao': '00427/01'}, {'codigo_municipio': '111', 'exercicio_orcamento': 202500, 'codigo_unidade_gestora': 17, 'data_referencia': 202501, 'nome_unidade_gestora': 'Secretaria Municipal de Meio Ambiente', 'data_criacao': '2025-01-01T03:00:00.000Z', 'data_extincao': None, 'numero_lei_criacao': '00645/10'}, {'codigo_municipio': '111', 'exercicio_orcamento': 202500, 'codigo_unidade_gestora': 18, 'data_referencia': 202501, 'nome_unidade_gestora': 'Secretaria de Educacao', 'data_criacao': '2025-01-01T03:00:00.000Z', 'data_extincao': None, 'numero_lei_criacao': '00603/09'}, {'codigo_municipio': '111', 'exercicio_orcamento': 202500, 'codigo_unidade_gestora': 19, 'data_referencia': 202501, 'nome_unidade_gestora': 'Fundo Municipal de Incentivo a Cultura', 'data_criacao': '2025-01-01T03:00:00.000Z', 'data_extincao': None, 'numero_lei_criacao': '00564/07'}, {'codigo_municipio': '111', 'exercicio_orcamento': 202500, 'codigo_unidade_gestora': 21, 'data_referencia': 202501, 'nome_unidade_gestora': 'Fundo M. dos Direitos da Crianca e do Adolescente', 'data_criacao': '2025-01-01T03:00:00.000Z', 'data_extincao': None, 'numero_lei_criacao': '00259/90'}, {'codigo_municipio': '111', 'exercicio_orcamento': 202500, 'codigo_unidade_gestora': 23, 'data_referencia': 202501, 'nome_unidade_gestora': 'Fundo de Defesa do Meio Ambiente', 'data_criacao': '2025-01-01T03:00:00.000Z', 'data_extincao': None, 'numero_lei_criacao': '01045/21'}, {'codigo_municipio': '111', 'exercicio_orcamento': 202500, 'codigo_unidade_gestora': 25, 'data_referencia': 202501, 'nome_unidade_gestora': 'Fundo Municipal de Direitos da Pessoa Idosa', 'data_criacao': '2025-01-01T03:00:00.000Z', 'data_extincao': None, 'numero_lei_criacao': '01054/22'}, {'codigo_municipio': '111', 'exercicio_orcamento': 202500, 'codigo_unidade_gestora': 26, 'data_referencia': 202501, 'nome_unidade_gestora': 'Secretaria Municipal de Planejamento e Gestao', 'data_criacao': '2025-01-01T03:00:00.000Z', 'data_extincao': None, 'numero_lei_criacao': '01058/22'}, {'codigo_municipio': '111', 'exercicio_orcamento': 202500, 'codigo_unidade_gestora': 27, 'data_referencia': 202501, 'nome_unidade_gestora': 'Controlodoria Geral do Municipio', 'data_criacao': '2025-01-01T03:00:00.000Z', 'data_extincao': None, 'numero_lei_criacao': '01058/22'}, {'codigo_municipio': '111', 'exercicio_orcamento': 202500, 'codigo_unidade_gestora': 28, 'data_referencia': 202501, 'nome_unidade_gestora': 'Secretaria M.de Desenvolvimento Social', 'data_criacao': '2025-01-01T03:00:00.000Z', 'data_extincao': None, 'numero_lei_criacao': '00811/22'}, {'codigo_municipio': '111', 'exercicio_orcamento': 202500, 'codigo_unidade_gestora': 29, 'data_referencia': 202501, 'nome_unidade_gestora': 'Secretaria Municipal de Agricultura e Pecuaria', 'data_criacao': '2025-01-01T03:00:00.000Z', 'data_extincao': None, 'numero_lei_criacao': '00811/22'}, {'codigo_municipio': '111', 'exercicio_orcamento': 202500, 'codigo_unidade_gestora': 30, 'data_referencia': 202501, 'nome_unidade_gestora': 'Secretaria Municipal de Orcamento e Financas', 'data_criacao': '2025-01-01T03:00:00.000Z', 'data_extincao': None, 'numero_lei_criacao': '00811/22'}, {'codigo_municipio': '111', 'exercicio_orcamento': 202500, 'codigo_unidade_gestora': 33, 'data_referencia': 202501, 'nome_unidade_gestora': 'Secretaria M. de Obras e Infraestrutura', 'data_criacao': '2025-01-01T03:00:00.000Z', 'data_extincao': None, 'numero_lei_criacao': '00837/24'}, {'codigo_municipio': '111', 'exercicio_orcamento': 202500, 'codigo_unidade_gestora': 34, 'data_referencia': 202501, 'nome_unidade_gestora': 'Secretaria M. de Seguranca Publica', 'data_criacao': '2025-01-01T03:00:00.000Z', 'data_extincao': None, 'numero_lei_criacao': '01106/24'}, {'codigo_municipio': '111', 'exercicio_orcamento': 202500, 'codigo_unidade_gestora': 35, 'data_referencia': 202501, 'nome_unidade_gestora': 'Secretaria M. de Esporte e Juventude', 'data_criacao': '2025-01-01T03:00:00.000Z', 'data_extincao': None, 'numero_lei_criacao': '00837/24'}, {'codigo_municipio': '111', 'exercicio_orcamento': 202500, 'codigo_unidade_gestora': 36, 'data_referencia': 202501, 'nome_unidade_gestora': 'Secretaria M. de Cultura e Turismo', 'data_criacao': '2025-01-01T03:00:00.000Z', 'data_extincao': None, 'numero_lei_criacao': '01106/24'}, {'codigo_municipio': '111', 'exercicio_orcamento': 202500, 'codigo_unidade_gestora': 37, 'data_referencia': 202501, 'nome_unidade_gestora': 'Secretaria Municipal da Mulher', 'data_criacao': '2025-01-01T03:00:00.000Z', 'data_extincao': None, 'numero_lei_criacao': '00837/24'}, {'codigo_municipio': '111', 'exercicio_orcamento': 202500, 'codigo_unidade_gestora': 38, 'data_referencia': 202503, 'nome_unidade_gestora': 'Secretaria Municipal de Governo', 'data_criacao': '2025-03-01T03:00:00.000Z', 'data_extincao': None, 'numero_lei_criacao': '00848/25'}, {'codigo_municipio': '111', 'exercicio_orcamento': 202500, 'codigo_unidade_gestora': 39, 'data_referencia': 202503, 'nome_unidade_gestora': 'Procuradoria Geral do Municipio', 'data_criacao': '2025-03-01T03:00:00.000Z', 'data_extincao': None, 'numero_lei_criacao': '00848/25'}, {'codigo_municipio': '111', 'exercicio_orcamento': 202500, 'codigo_unidade_gestora': 40, 'data_referencia': 202503, 'nome_unidade_gestora': 'Sec.M.de Desenvolvimento Economico,Tec.e Inovacoes', 'data_criacao': '2025-03-01T03:00:00.000Z', 'data_extincao': None, 'numero_lei_criacao': '00848/25'}, {'codigo_municipio': '111', 'exercicio_orcamento': 202500, 'codigo_unidade_gestora': 99, 'data_referencia': 202501, 'nome_unidade_gestora': 'Camara Municipal de Mombaca', 'data_criacao': '2025-01-01T03:00:00.000Z', 'data_extincao': None, 'numero_lei_criacao': '00001/01'}]\n"
     ]
    }
   ],
   "source": [
    "json_data = res.json()\n",
    "print(json_data['data'])"
   ]
  },
  {
   "cell_type": "code",
   "execution_count": 20,
   "id": "ed0f9e3d",
   "metadata": {},
   "outputs": [],
   "source": [
    "if res.status_code == 200:\n",
    "  json_data = res.json()\n",
    "  df = pd.DataFrame(json_data['data'])\n",
    "else:\n",
    "  print(f\"Failed to retrieve data: {res.status_code}\")"
   ]
  },
  {
   "cell_type": "code",
   "execution_count": 21,
   "id": "7d006904",
   "metadata": {},
   "outputs": [
    {
     "data": {
      "text/html": [
       "<div>\n",
       "<style scoped>\n",
       "    .dataframe tbody tr th:only-of-type {\n",
       "        vertical-align: middle;\n",
       "    }\n",
       "\n",
       "    .dataframe tbody tr th {\n",
       "        vertical-align: top;\n",
       "    }\n",
       "\n",
       "    .dataframe thead th {\n",
       "        text-align: right;\n",
       "    }\n",
       "</style>\n",
       "<table border=\"1\" class=\"dataframe\">\n",
       "  <thead>\n",
       "    <tr style=\"text-align: right;\">\n",
       "      <th></th>\n",
       "      <th>codigo_municipio</th>\n",
       "      <th>exercicio_orcamento</th>\n",
       "      <th>codigo_unidade_gestora</th>\n",
       "      <th>data_referencia</th>\n",
       "      <th>nome_unidade_gestora</th>\n",
       "      <th>data_criacao</th>\n",
       "      <th>data_extincao</th>\n",
       "      <th>numero_lei_criacao</th>\n",
       "    </tr>\n",
       "  </thead>\n",
       "  <tbody>\n",
       "    <tr>\n",
       "      <th>0</th>\n",
       "      <td>111</td>\n",
       "      <td>202500</td>\n",
       "      <td>4</td>\n",
       "      <td>202501</td>\n",
       "      <td>Fundo Municipal de Saude</td>\n",
       "      <td>2025-01-01T03:00:00.000Z</td>\n",
       "      <td>None</td>\n",
       "      <td>00427/01</td>\n",
       "    </tr>\n",
       "    <tr>\n",
       "      <th>1</th>\n",
       "      <td>111</td>\n",
       "      <td>202500</td>\n",
       "      <td>6</td>\n",
       "      <td>202501</td>\n",
       "      <td>Fundo Municipal de Assistencia Social</td>\n",
       "      <td>2025-01-01T03:00:00.000Z</td>\n",
       "      <td>None</td>\n",
       "      <td>00427/01</td>\n",
       "    </tr>\n",
       "    <tr>\n",
       "      <th>2</th>\n",
       "      <td>111</td>\n",
       "      <td>202500</td>\n",
       "      <td>8</td>\n",
       "      <td>202501</td>\n",
       "      <td>Gabinete do Prefeito</td>\n",
       "      <td>2025-01-01T03:00:00.000Z</td>\n",
       "      <td>None</td>\n",
       "      <td>00427/01</td>\n",
       "    </tr>\n",
       "    <tr>\n",
       "      <th>3</th>\n",
       "      <td>111</td>\n",
       "      <td>202500</td>\n",
       "      <td>11</td>\n",
       "      <td>202501</td>\n",
       "      <td>Secretaria de Administracao</td>\n",
       "      <td>2025-01-01T03:00:00.000Z</td>\n",
       "      <td>None</td>\n",
       "      <td>00427/01</td>\n",
       "    </tr>\n",
       "    <tr>\n",
       "      <th>4</th>\n",
       "      <td>111</td>\n",
       "      <td>202500</td>\n",
       "      <td>17</td>\n",
       "      <td>202501</td>\n",
       "      <td>Secretaria Municipal de Meio Ambiente</td>\n",
       "      <td>2025-01-01T03:00:00.000Z</td>\n",
       "      <td>None</td>\n",
       "      <td>00645/10</td>\n",
       "    </tr>\n",
       "  </tbody>\n",
       "</table>\n",
       "</div>"
      ],
      "text/plain": [
       "  codigo_municipio  exercicio_orcamento  codigo_unidade_gestora  \\\n",
       "0              111               202500                       4   \n",
       "1              111               202500                       6   \n",
       "2              111               202500                       8   \n",
       "3              111               202500                      11   \n",
       "4              111               202500                      17   \n",
       "\n",
       "   data_referencia                   nome_unidade_gestora  \\\n",
       "0           202501               Fundo Municipal de Saude   \n",
       "1           202501  Fundo Municipal de Assistencia Social   \n",
       "2           202501                   Gabinete do Prefeito   \n",
       "3           202501            Secretaria de Administracao   \n",
       "4           202501  Secretaria Municipal de Meio Ambiente   \n",
       "\n",
       "               data_criacao data_extincao numero_lei_criacao  \n",
       "0  2025-01-01T03:00:00.000Z          None           00427/01  \n",
       "1  2025-01-01T03:00:00.000Z          None           00427/01  \n",
       "2  2025-01-01T03:00:00.000Z          None           00427/01  \n",
       "3  2025-01-01T03:00:00.000Z          None           00427/01  \n",
       "4  2025-01-01T03:00:00.000Z          None           00645/10  "
      ]
     },
     "execution_count": 21,
     "metadata": {},
     "output_type": "execute_result"
    }
   ],
   "source": [
    "df.head()"
   ]
  },
  {
   "cell_type": "code",
   "execution_count": 22,
   "id": "9fb6a31f",
   "metadata": {},
   "outputs": [],
   "source": [
    "df_mombaca = df[['codigo_unidade_gestora', 'nome_unidade_gestora', 'data_criacao', 'data_extincao']]"
   ]
  },
  {
   "cell_type": "code",
   "execution_count": 23,
   "id": "8ac32f36",
   "metadata": {},
   "outputs": [
    {
     "name": "stdout",
     "output_type": "stream",
     "text": [
      "    codigo_unidade_gestora                               nome_unidade_gestora  \\\n",
      "0                        4                           Fundo Municipal de Saude   \n",
      "1                        6              Fundo Municipal de Assistencia Social   \n",
      "2                        8                               Gabinete do Prefeito   \n",
      "3                       11                        Secretaria de Administracao   \n",
      "4                       17              Secretaria Municipal de Meio Ambiente   \n",
      "5                       18                             Secretaria de Educacao   \n",
      "6                       19             Fundo Municipal de Incentivo a Cultura   \n",
      "7                       21  Fundo M. dos Direitos da Crianca e do Adolescente   \n",
      "8                       23                   Fundo de Defesa do Meio Ambiente   \n",
      "9                       25        Fundo Municipal de Direitos da Pessoa Idosa   \n",
      "10                      26      Secretaria Municipal de Planejamento e Gestao   \n",
      "11                      27                   Controlodoria Geral do Municipio   \n",
      "12                      28             Secretaria M.de Desenvolvimento Social   \n",
      "13                      29     Secretaria Municipal de Agricultura e Pecuaria   \n",
      "14                      30       Secretaria Municipal de Orcamento e Financas   \n",
      "15                      33            Secretaria M. de Obras e Infraestrutura   \n",
      "16                      34                 Secretaria M. de Seguranca Publica   \n",
      "17                      35               Secretaria M. de Esporte e Juventude   \n",
      "18                      36                 Secretaria M. de Cultura e Turismo   \n",
      "19                      37                     Secretaria Municipal da Mulher   \n",
      "20                      38                    Secretaria Municipal de Governo   \n",
      "21                      39                    Procuradoria Geral do Municipio   \n",
      "22                      40  Sec.M.de Desenvolvimento Economico,Tec.e Inova...   \n",
      "23                      99                        Camara Municipal de Mombaca   \n",
      "\n",
      "                data_criacao data_extincao  \n",
      "0   2025-01-01T03:00:00.000Z          None  \n",
      "1   2025-01-01T03:00:00.000Z          None  \n",
      "2   2025-01-01T03:00:00.000Z          None  \n",
      "3   2025-01-01T03:00:00.000Z          None  \n",
      "4   2025-01-01T03:00:00.000Z          None  \n",
      "5   2025-01-01T03:00:00.000Z          None  \n",
      "6   2025-01-01T03:00:00.000Z          None  \n",
      "7   2025-01-01T03:00:00.000Z          None  \n",
      "8   2025-01-01T03:00:00.000Z          None  \n",
      "9   2025-01-01T03:00:00.000Z          None  \n",
      "10  2025-01-01T03:00:00.000Z          None  \n",
      "11  2025-01-01T03:00:00.000Z          None  \n",
      "12  2025-01-01T03:00:00.000Z          None  \n",
      "13  2025-01-01T03:00:00.000Z          None  \n",
      "14  2025-01-01T03:00:00.000Z          None  \n",
      "15  2025-01-01T03:00:00.000Z          None  \n",
      "16  2025-01-01T03:00:00.000Z          None  \n",
      "17  2025-01-01T03:00:00.000Z          None  \n",
      "18  2025-01-01T03:00:00.000Z          None  \n",
      "19  2025-01-01T03:00:00.000Z          None  \n",
      "20  2025-03-01T03:00:00.000Z          None  \n",
      "21  2025-03-01T03:00:00.000Z          None  \n",
      "22  2025-03-01T03:00:00.000Z          None  \n",
      "23  2025-01-01T03:00:00.000Z          None  \n"
     ]
    }
   ],
   "source": [
    "print(df_mombaca)"
   ]
  },
  {
   "cell_type": "code",
   "execution_count": null,
   "id": "0cbe84ed",
   "metadata": {},
   "outputs": [
    {
     "name": "stdout",
     "output_type": "stream",
     "text": [
      "postgres S3nh4S3gur4 62.72.9.97 5432 govdigital\n"
     ]
    }
   ],
   "source": [
    "from dotenv import load_dotenv\n",
    "import os\n",
    "\n",
    "load_dotenv()\n",
    "\n",
    "DB_USER = os.getenv(\"DB_USER\")\n",
    "DB_PASS = os.getenv(\"DB_PASS\")\n",
    "DB_HOST = os.getenv(\"DB_HOST\")\n",
    "DB_PORT = os.getenv(\"DB_PORT\")\n",
    "DB_NAME = os.getenv(\"DB_NAME\")\n"
   ]
  },
  {
   "cell_type": "code",
   "execution_count": 28,
   "id": "de2a1726",
   "metadata": {},
   "outputs": [
    {
     "data": {
      "text/plain": [
       "24"
      ]
     },
     "execution_count": 28,
     "metadata": {},
     "output_type": "execute_result"
    }
   ],
   "source": [
    "from sqlalchemy import create_engine\n",
    "import urllib.parse\n",
    "\n",
    "password_quoted = urllib.parse.quote_plus(DB_PASS)\n",
    "conn_str = f\"postgresql+psycopg2://{DB_USER}:{password_quoted}@{DB_HOST}:{DB_PORT}/{DB_NAME}\"\n",
    "engine = create_engine(conn_str, pool_pre_ping=True)\n",
    "\n",
    "table_name = \"unidades_gestoras\"\n",
    "df_mombaca.to_sql(table_name, engine, if_exists=\"append\", index=False, method=\"multi\")\n",
    "\n",
    "# # ler de volta para confirmar\n",
    "# df_check = pd.read_sql(f\"SELECT * FROM {table_name} LIMIT 5\", engine)\n",
    "# display(df_check)"
   ]
  },
  {
   "cell_type": "code",
   "execution_count": 29,
   "id": "3af419bf",
   "metadata": {},
   "outputs": [],
   "source": [
    "# gestores das unidades gestoras\n",
    "codigo_municipio = \"111\"\n",
    "exercicio_orcamento = \"2025\"\n",
    "api_url = f\"https://api-dados-abertos.tce.ce.gov.br/gestores_unidades_gestoras?codigo_municipio={codigo_municipio}&exercicio_orcamento={exercicio_orcamento}00\""
   ]
  },
  {
   "cell_type": "code",
   "execution_count": 31,
   "id": "2d71e800",
   "metadata": {},
   "outputs": [
    {
     "name": "stdout",
     "output_type": "stream",
     "text": [
      "[{'cpf_servidor': '048******47', 'codigo_municipio': '111', 'exercicio_orcamento': 202500, 'codigo_unidade_gestora': 4, 'codigo_unidade': '01  ', 'codigo_ingresso': 'N', 'codigo_vinculo': 'E', 'numero_expediente': '0201122025', 'data_inicio_gestao': '2025-01-01T03:00:00.000Z', 'data_referencia': 202501, 'nome_gestor': 'LIANE EVANGELISTA DE ALENCAR', 'data_fim_gestao': None, 'tipo_cargo': '03'}, {'cpf_servidor': '770******04', 'codigo_municipio': '111', 'exercicio_orcamento': 202500, 'codigo_unidade_gestora': 6, 'codigo_unidade': '02  ', 'codigo_ingresso': 'N', 'codigo_vinculo': 'E', 'numero_expediente': '0201142025', 'data_inicio_gestao': '2025-01-01T03:00:00.000Z', 'data_referencia': 202501, 'nome_gestor': 'RAFAEL ANGELO MARQUES GONCALVES E SILVA', 'data_fim_gestao': None, 'tipo_cargo': '03'}, {'cpf_servidor': '780******68', 'codigo_municipio': '111', 'exercicio_orcamento': 202500, 'codigo_unidade_gestora': 8, 'codigo_unidade': '01  ', 'codigo_ingresso': 'N', 'codigo_vinculo': 'E', 'numero_expediente': '0201012025', 'data_inicio_gestao': '2025-01-01T03:00:00.000Z', 'data_referencia': 202501, 'nome_gestor': 'FRANCISCO NEILDO DE OLIVEIRA VERAS', 'data_fim_gestao': None, 'tipo_cargo': '03'}, {'cpf_servidor': '028******80', 'codigo_municipio': '111', 'exercicio_orcamento': 202500, 'codigo_unidade_gestora': 11, 'codigo_unidade': '01  ', 'codigo_ingresso': 'N', 'codigo_vinculo': 'E', 'numero_expediente': '0201052025', 'data_inicio_gestao': '2025-01-01T03:00:00.000Z', 'data_referencia': 202501, 'nome_gestor': 'FRANCISCO TAITALO MOTA MELO', 'data_fim_gestao': None, 'tipo_cargo': '03'}, {'cpf_servidor': '071******03', 'codigo_municipio': '111', 'exercicio_orcamento': 202500, 'codigo_unidade_gestora': 11, 'codigo_unidade': '01  ', 'codigo_ingresso': 'N', 'codigo_vinculo': 'E', 'numero_expediente': '0201432025', 'data_inicio_gestao': '2025-05-20T03:00:00.000Z', 'data_referencia': 202505, 'nome_gestor': 'FRANCISCA GRAZIELA DE SOUSA PEDROSA', 'data_fim_gestao': None, 'tipo_cargo': '11'}, {'cpf_servidor': '987******20', 'codigo_municipio': '111', 'exercicio_orcamento': 202500, 'codigo_unidade_gestora': 17, 'codigo_unidade': '13  ', 'codigo_ingresso': 'N', 'codigo_vinculo': 'E', 'numero_expediente': '0201082025', 'data_inicio_gestao': '2025-01-01T03:00:00.000Z', 'data_referencia': 202501, 'nome_gestor': 'NATANAEL DE OLIVEIRA MARQUES', 'data_fim_gestao': None, 'tipo_cargo': '03'}, {'cpf_servidor': '703******00', 'codigo_municipio': '111', 'exercicio_orcamento': 202500, 'codigo_unidade_gestora': 18, 'codigo_unidade': '03  ', 'codigo_ingresso': 'N', 'codigo_vinculo': 'E', 'numero_expediente': '0201132025', 'data_inicio_gestao': '2025-01-01T03:00:00.000Z', 'data_referencia': 202501, 'nome_gestor': 'HELENA DE OLIVEIRA SILVA', 'data_fim_gestao': None, 'tipo_cargo': '03'}, {'cpf_servidor': '054******02', 'codigo_municipio': '111', 'exercicio_orcamento': 202500, 'codigo_unidade_gestora': 19, 'codigo_unidade': '02  ', 'codigo_ingresso': 'N', 'codigo_vinculo': 'E', 'numero_expediente': '0209022024', 'data_inicio_gestao': '2025-01-01T03:00:00.000Z', 'data_referencia': 202501, 'nome_gestor': 'JOSE JUSTINO DE PADUA NETO', 'data_fim_gestao': None, 'tipo_cargo': '03'}, {'cpf_servidor': '013******09', 'codigo_municipio': '111', 'exercicio_orcamento': 202500, 'codigo_unidade_gestora': 26, 'codigo_unidade': '01  ', 'codigo_ingresso': 'N', 'codigo_vinculo': 'E', 'numero_expediente': '0201042025', 'data_inicio_gestao': '2025-01-01T03:00:00.000Z', 'data_referencia': 202501, 'nome_gestor': 'ROOSBERG WILKER DO NASCIMENTO NUNES', 'data_fim_gestao': None, 'tipo_cargo': '03'}, {'cpf_servidor': '059******31', 'codigo_municipio': '111', 'exercicio_orcamento': 202500, 'codigo_unidade_gestora': 27, 'codigo_unidade': '01  ', 'codigo_ingresso': 'N', 'codigo_vinculo': 'E', 'numero_expediente': '0201032025', 'data_inicio_gestao': '2025-01-01T03:00:00.000Z', 'data_referencia': 202501, 'nome_gestor': 'LUCAS DE CASTRO TEIXEIRA', 'data_fim_gestao': None, 'tipo_cargo': '03'}, {'cpf_servidor': '277******97', 'codigo_municipio': '111', 'exercicio_orcamento': 202500, 'codigo_unidade_gestora': 29, 'codigo_unidade': '01  ', 'codigo_ingresso': 'N', 'codigo_vinculo': 'E', 'numero_expediente': '0201092025', 'data_inicio_gestao': '2025-01-01T03:00:00.000Z', 'data_referencia': 202501, 'nome_gestor': 'JEAN CARLOS MARQUES FAUSTINO', 'data_fim_gestao': None, 'tipo_cargo': '03'}, {'cpf_servidor': '266******04', 'codigo_municipio': '111', 'exercicio_orcamento': 202500, 'codigo_unidade_gestora': 30, 'codigo_unidade': '01  ', 'codigo_ingresso': 'N', 'codigo_vinculo': 'E', 'numero_expediente': '0201062025', 'data_inicio_gestao': '2025-01-01T03:00:00.000Z', 'data_referencia': 202501, 'nome_gestor': 'LUCIGLORIA ALVES EVANGELISTA DE ALENCAR', 'data_fim_gestao': None, 'tipo_cargo': '03'}, {'cpf_servidor': '058******90', 'codigo_municipio': '111', 'exercicio_orcamento': 202500, 'codigo_unidade_gestora': 33, 'codigo_unidade': '01  ', 'codigo_ingresso': 'N', 'codigo_vinculo': 'E', 'numero_expediente': '0201072025', 'data_inicio_gestao': '2025-01-01T03:00:00.000Z', 'data_referencia': 202501, 'nome_gestor': 'FRANCISCO LINO CAVALCANTE NETO', 'data_fim_gestao': None, 'tipo_cargo': '03'}, {'cpf_servidor': '606******34', 'codigo_municipio': '111', 'exercicio_orcamento': 202500, 'codigo_unidade_gestora': 33, 'codigo_unidade': '01  ', 'codigo_ingresso': 'N', 'codigo_vinculo': 'E', 'numero_expediente': '020500225', 'data_inicio_gestao': '2025-05-02T03:00:00.000Z', 'data_referencia': 202505, 'nome_gestor': 'FRANCISCO REGINALDO CAVALCANTE', 'data_fim_gestao': None, 'tipo_cargo': '90'}, {'cpf_servidor': '958******72', 'codigo_municipio': '111', 'exercicio_orcamento': 202500, 'codigo_unidade_gestora': 34, 'codigo_unidade': '01  ', 'codigo_ingresso': 'N', 'codigo_vinculo': 'E', 'numero_expediente': '0201162025', 'data_inicio_gestao': '2025-01-01T03:00:00.000Z', 'data_referencia': 202501, 'nome_gestor': 'LEANDRO LIMA EVANGELISTA', 'data_fim_gestao': None, 'tipo_cargo': '03'}, {'cpf_servidor': '979******44', 'codigo_municipio': '111', 'exercicio_orcamento': 202500, 'codigo_unidade_gestora': 36, 'codigo_unidade': '01  ', 'codigo_ingresso': 'N', 'codigo_vinculo': 'E', 'numero_expediente': '0201102025', 'data_inicio_gestao': '2025-01-01T03:00:00.000Z', 'data_referencia': 202501, 'nome_gestor': 'NEY WERBSON MOREIRA ALVES', 'data_fim_gestao': None, 'tipo_cargo': '03'}, {'cpf_servidor': '348******34', 'codigo_municipio': '111', 'exercicio_orcamento': 202500, 'codigo_unidade_gestora': 37, 'codigo_unidade': '01  ', 'codigo_ingresso': 'N', 'codigo_vinculo': 'E', 'numero_expediente': '0201152025', 'data_inicio_gestao': '2025-01-01T03:00:00.000Z', 'data_referencia': 202501, 'nome_gestor': 'CLAUDENIA DO NASCIMENTO SOUSA CAVALCANTE', 'data_fim_gestao': None, 'tipo_cargo': '03'}, {'cpf_servidor': '022******43', 'codigo_municipio': '111', 'exercicio_orcamento': 202500, 'codigo_unidade_gestora': 39, 'codigo_unidade': '01  ', 'codigo_ingresso': 'N', 'codigo_vinculo': 'E', 'numero_expediente': '0303015/25', 'data_inicio_gestao': '2025-03-03T03:00:00.000Z', 'data_referencia': 202503, 'nome_gestor': 'NARCISO LOPES DA COSTA FILHO', 'data_fim_gestao': None, 'tipo_cargo': '03'}, {'cpf_servidor': '607******10', 'codigo_municipio': '111', 'exercicio_orcamento': 202500, 'codigo_unidade_gestora': 39, 'codigo_unidade': '01  ', 'codigo_ingresso': 'N', 'codigo_vinculo': 'E', 'numero_expediente': '2005002/25', 'data_inicio_gestao': '2025-05-20T03:00:00.000Z', 'data_referencia': 202505, 'nome_gestor': 'LUANA EVANGELISTA LOPES', 'data_fim_gestao': None, 'tipo_cargo': '10'}, {'cpf_servidor': '918******44', 'codigo_municipio': '111', 'exercicio_orcamento': 202500, 'codigo_unidade_gestora': 99, 'codigo_unidade': '01  ', 'codigo_ingresso': 'E', 'codigo_vinculo': 'L', 'numero_expediente': '001/2025', 'data_inicio_gestao': '2025-01-01T03:00:00.000Z', 'data_referencia': 202501, 'nome_gestor': 'JOSIELMA PINHEIRO FERNANDES DE ARAUJO', 'data_fim_gestao': None, 'tipo_cargo': '02'}]\n"
     ]
    }
   ],
   "source": [
    "res = requests.get(api_url)\n",
    "json_data = res.json()\n",
    "print(json_data['data'])"
   ]
  },
  {
   "cell_type": "code",
   "execution_count": 33,
   "id": "6aec62df",
   "metadata": {},
   "outputs": [],
   "source": [
    "if res.status_code == 200:\n",
    "  json_data = res.json()\n",
    "  df_gestores = pd.DataFrame(json_data['data'])\n",
    "else:\n",
    "  print(f\"Failed to retrieve data: {res.status_code}\")"
   ]
  },
  {
   "cell_type": "code",
   "execution_count": 35,
   "id": "54fc7f9e",
   "metadata": {},
   "outputs": [
    {
     "data": {
      "text/html": [
       "<div>\n",
       "<style scoped>\n",
       "    .dataframe tbody tr th:only-of-type {\n",
       "        vertical-align: middle;\n",
       "    }\n",
       "\n",
       "    .dataframe tbody tr th {\n",
       "        vertical-align: top;\n",
       "    }\n",
       "\n",
       "    .dataframe thead th {\n",
       "        text-align: right;\n",
       "    }\n",
       "</style>\n",
       "<table border=\"1\" class=\"dataframe\">\n",
       "  <thead>\n",
       "    <tr style=\"text-align: right;\">\n",
       "      <th></th>\n",
       "      <th>cpf_servidor</th>\n",
       "      <th>codigo_municipio</th>\n",
       "      <th>exercicio_orcamento</th>\n",
       "      <th>codigo_unidade_gestora</th>\n",
       "      <th>codigo_unidade</th>\n",
       "      <th>codigo_ingresso</th>\n",
       "      <th>codigo_vinculo</th>\n",
       "      <th>numero_expediente</th>\n",
       "      <th>data_inicio_gestao</th>\n",
       "      <th>data_referencia</th>\n",
       "      <th>nome_gestor</th>\n",
       "      <th>data_fim_gestao</th>\n",
       "      <th>tipo_cargo</th>\n",
       "    </tr>\n",
       "  </thead>\n",
       "  <tbody>\n",
       "    <tr>\n",
       "      <th>0</th>\n",
       "      <td>048******47</td>\n",
       "      <td>111</td>\n",
       "      <td>202500</td>\n",
       "      <td>4</td>\n",
       "      <td>01</td>\n",
       "      <td>N</td>\n",
       "      <td>E</td>\n",
       "      <td>0201122025</td>\n",
       "      <td>2025-01-01T03:00:00.000Z</td>\n",
       "      <td>202501</td>\n",
       "      <td>LIANE EVANGELISTA DE ALENCAR</td>\n",
       "      <td>None</td>\n",
       "      <td>03</td>\n",
       "    </tr>\n",
       "    <tr>\n",
       "      <th>1</th>\n",
       "      <td>770******04</td>\n",
       "      <td>111</td>\n",
       "      <td>202500</td>\n",
       "      <td>6</td>\n",
       "      <td>02</td>\n",
       "      <td>N</td>\n",
       "      <td>E</td>\n",
       "      <td>0201142025</td>\n",
       "      <td>2025-01-01T03:00:00.000Z</td>\n",
       "      <td>202501</td>\n",
       "      <td>RAFAEL ANGELO MARQUES GONCALVES E SILVA</td>\n",
       "      <td>None</td>\n",
       "      <td>03</td>\n",
       "    </tr>\n",
       "    <tr>\n",
       "      <th>2</th>\n",
       "      <td>780******68</td>\n",
       "      <td>111</td>\n",
       "      <td>202500</td>\n",
       "      <td>8</td>\n",
       "      <td>01</td>\n",
       "      <td>N</td>\n",
       "      <td>E</td>\n",
       "      <td>0201012025</td>\n",
       "      <td>2025-01-01T03:00:00.000Z</td>\n",
       "      <td>202501</td>\n",
       "      <td>FRANCISCO NEILDO DE OLIVEIRA VERAS</td>\n",
       "      <td>None</td>\n",
       "      <td>03</td>\n",
       "    </tr>\n",
       "    <tr>\n",
       "      <th>3</th>\n",
       "      <td>028******80</td>\n",
       "      <td>111</td>\n",
       "      <td>202500</td>\n",
       "      <td>11</td>\n",
       "      <td>01</td>\n",
       "      <td>N</td>\n",
       "      <td>E</td>\n",
       "      <td>0201052025</td>\n",
       "      <td>2025-01-01T03:00:00.000Z</td>\n",
       "      <td>202501</td>\n",
       "      <td>FRANCISCO TAITALO MOTA MELO</td>\n",
       "      <td>None</td>\n",
       "      <td>03</td>\n",
       "    </tr>\n",
       "    <tr>\n",
       "      <th>4</th>\n",
       "      <td>071******03</td>\n",
       "      <td>111</td>\n",
       "      <td>202500</td>\n",
       "      <td>11</td>\n",
       "      <td>01</td>\n",
       "      <td>N</td>\n",
       "      <td>E</td>\n",
       "      <td>0201432025</td>\n",
       "      <td>2025-05-20T03:00:00.000Z</td>\n",
       "      <td>202505</td>\n",
       "      <td>FRANCISCA GRAZIELA DE SOUSA PEDROSA</td>\n",
       "      <td>None</td>\n",
       "      <td>11</td>\n",
       "    </tr>\n",
       "  </tbody>\n",
       "</table>\n",
       "</div>"
      ],
      "text/plain": [
       "  cpf_servidor codigo_municipio  exercicio_orcamento  codigo_unidade_gestora  \\\n",
       "0  048******47              111               202500                       4   \n",
       "1  770******04              111               202500                       6   \n",
       "2  780******68              111               202500                       8   \n",
       "3  028******80              111               202500                      11   \n",
       "4  071******03              111               202500                      11   \n",
       "\n",
       "  codigo_unidade codigo_ingresso codigo_vinculo numero_expediente  \\\n",
       "0           01                 N              E        0201122025   \n",
       "1           02                 N              E        0201142025   \n",
       "2           01                 N              E        0201012025   \n",
       "3           01                 N              E        0201052025   \n",
       "4           01                 N              E        0201432025   \n",
       "\n",
       "         data_inicio_gestao  data_referencia  \\\n",
       "0  2025-01-01T03:00:00.000Z           202501   \n",
       "1  2025-01-01T03:00:00.000Z           202501   \n",
       "2  2025-01-01T03:00:00.000Z           202501   \n",
       "3  2025-01-01T03:00:00.000Z           202501   \n",
       "4  2025-05-20T03:00:00.000Z           202505   \n",
       "\n",
       "                               nome_gestor data_fim_gestao tipo_cargo  \n",
       "0             LIANE EVANGELISTA DE ALENCAR            None         03  \n",
       "1  RAFAEL ANGELO MARQUES GONCALVES E SILVA            None         03  \n",
       "2       FRANCISCO NEILDO DE OLIVEIRA VERAS            None         03  \n",
       "3              FRANCISCO TAITALO MOTA MELO            None         03  \n",
       "4      FRANCISCA GRAZIELA DE SOUSA PEDROSA            None         11  "
      ]
     },
     "execution_count": 35,
     "metadata": {},
     "output_type": "execute_result"
    }
   ],
   "source": [
    "df_gestores.head()"
   ]
  },
  {
   "cell_type": "code",
   "execution_count": 36,
   "id": "a5b5179e",
   "metadata": {},
   "outputs": [],
   "source": [
    "df_gestores = df_gestores[['cpf_servidor', 'codigo_unidade_gestora', 'codigo_vinculo', 'nome_gestor']]"
   ]
  },
  {
   "cell_type": "code",
   "execution_count": 37,
   "id": "3efccf38",
   "metadata": {},
   "outputs": [
    {
     "data": {
      "text/plain": [
       "20"
      ]
     },
     "execution_count": 37,
     "metadata": {},
     "output_type": "execute_result"
    }
   ],
   "source": [
    "table_name = \"gestores_unidades_gestoras\"\n",
    "df_gestores.to_sql(table_name, engine, if_exists=\"append\", index=False, method=\"multi\")"
   ]
  }
 ],
 "metadata": {
  "kernelspec": {
   "display_name": ".venv (3.12.7)",
   "language": "python",
   "name": "python3"
  },
  "language_info": {
   "codemirror_mode": {
    "name": "ipython",
    "version": 3
   },
   "file_extension": ".py",
   "mimetype": "text/x-python",
   "name": "python",
   "nbconvert_exporter": "python",
   "pygments_lexer": "ipython3",
   "version": "3.12.7"
  }
 },
 "nbformat": 4,
 "nbformat_minor": 5
}
