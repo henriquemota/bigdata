{
 "cells": [
  {
   "cell_type": "markdown",
   "id": "f09b34ff",
   "metadata": {},
   "source": [
    "# Projeto para trabalhar API do TCE\n",
    "## url: https://api-dados-abertos.tce.ce.gov.br/municipios?nome_municipio=fortaleza"
   ]
  },
  {
   "cell_type": "code",
   "execution_count": 1,
   "id": "a07817e5",
   "metadata": {},
   "outputs": [],
   "source": [
    "import pandas as pd\n",
    "import requests as rq"
   ]
  },
  {
   "cell_type": "code",
   "execution_count": 2,
   "id": "c6488e05",
   "metadata": {},
   "outputs": [],
   "source": [
    "base_url = \"https://api-dados-abertos.tce.ce.gov.br\""
   ]
  },
  {
   "cell_type": "code",
   "execution_count": 9,
   "id": "34878e86",
   "metadata": {},
   "outputs": [],
   "source": [
    "municipio = \"fortaleza\"\n",
    "resp = rq.get(f\"{base_url}/municipios?nome_municipio={municipio}\")\n",
    "if resp.status_code == 200: municipios = resp.json()"
   ]
  },
  {
   "cell_type": "code",
   "execution_count": 10,
   "id": "7f73fc01",
   "metadata": {},
   "outputs": [
    {
     "name": "stdout",
     "output_type": "stream",
     "text": [
      "[{'codigo_municipio': '057', 'nome_municipio': 'FORTALEZA', 'geoibgeId': '2304400', 'geonamesId': '3399415'}]\n"
     ]
    }
   ],
   "source": [
    "print(municipios['data'])"
   ]
  },
  {
   "cell_type": "code",
   "execution_count": 11,
   "id": "27e5fd48",
   "metadata": {},
   "outputs": [],
   "source": [
    "dt = pd.DataFrame(municipios['data'])"
   ]
  },
  {
   "cell_type": "code",
   "execution_count": 12,
   "id": "703b098f",
   "metadata": {},
   "outputs": [
    {
     "data": {
      "text/html": [
       "<div>\n",
       "<style scoped>\n",
       "    .dataframe tbody tr th:only-of-type {\n",
       "        vertical-align: middle;\n",
       "    }\n",
       "\n",
       "    .dataframe tbody tr th {\n",
       "        vertical-align: top;\n",
       "    }\n",
       "\n",
       "    .dataframe thead th {\n",
       "        text-align: right;\n",
       "    }\n",
       "</style>\n",
       "<table border=\"1\" class=\"dataframe\">\n",
       "  <thead>\n",
       "    <tr style=\"text-align: right;\">\n",
       "      <th></th>\n",
       "      <th>codigo_municipio</th>\n",
       "      <th>nome_municipio</th>\n",
       "      <th>geoibgeId</th>\n",
       "      <th>geonamesId</th>\n",
       "    </tr>\n",
       "  </thead>\n",
       "  <tbody>\n",
       "    <tr>\n",
       "      <th>0</th>\n",
       "      <td>057</td>\n",
       "      <td>FORTALEZA</td>\n",
       "      <td>2304400</td>\n",
       "      <td>3399415</td>\n",
       "    </tr>\n",
       "  </tbody>\n",
       "</table>\n",
       "</div>"
      ],
      "text/plain": [
       "  codigo_municipio nome_municipio geoibgeId geonamesId\n",
       "0              057      FORTALEZA   2304400    3399415"
      ]
     },
     "execution_count": 12,
     "metadata": {},
     "output_type": "execute_result"
    }
   ],
   "source": [
    "dt.head()"
   ]
  },
  {
   "cell_type": "markdown",
   "id": "1fb7b753",
   "metadata": {},
   "source": [
    "## Unidades gestoras"
   ]
  },
  {
   "cell_type": "code",
   "execution_count": 13,
   "id": "1d3301a8",
   "metadata": {},
   "outputs": [],
   "source": [
    "codigo_municipio = \"057\"\n",
    "exercicio_orcamento = \"202500\"\n",
    "\n",
    "resp = rq.get(f\"{base_url}/unidades_gestoras?codigo_municipio={codigo_municipio}&exercicio_orcamento={exercicio_orcamento}\")\n",
    "if resp.status_code == 200: unidades_gestoras = resp.json()"
   ]
  },
  {
   "cell_type": "code",
   "execution_count": 14,
   "id": "a162ffac",
   "metadata": {},
   "outputs": [],
   "source": [
    "dt_unidades = pd.DataFrame(unidades_gestoras['data'])"
   ]
  },
  {
   "cell_type": "code",
   "execution_count": 15,
   "id": "5c7afe2e",
   "metadata": {},
   "outputs": [
    {
     "data": {
      "text/html": [
       "<div>\n",
       "<style scoped>\n",
       "    .dataframe tbody tr th:only-of-type {\n",
       "        vertical-align: middle;\n",
       "    }\n",
       "\n",
       "    .dataframe tbody tr th {\n",
       "        vertical-align: top;\n",
       "    }\n",
       "\n",
       "    .dataframe thead th {\n",
       "        text-align: right;\n",
       "    }\n",
       "</style>\n",
       "<table border=\"1\" class=\"dataframe\">\n",
       "  <thead>\n",
       "    <tr style=\"text-align: right;\">\n",
       "      <th></th>\n",
       "      <th>codigo_municipio</th>\n",
       "      <th>exercicio_orcamento</th>\n",
       "      <th>codigo_unidade_gestora</th>\n",
       "      <th>data_referencia</th>\n",
       "      <th>nome_unidade_gestora</th>\n",
       "      <th>data_criacao</th>\n",
       "      <th>data_extincao</th>\n",
       "      <th>numero_lei_criacao</th>\n",
       "    </tr>\n",
       "  </thead>\n",
       "  <tbody>\n",
       "    <tr>\n",
       "      <th>0</th>\n",
       "      <td>057</td>\n",
       "      <td>202500</td>\n",
       "      <td>2</td>\n",
       "      <td>202501</td>\n",
       "      <td>HOSPITAL DISTRITAL EVANDRO AYRES DE MOURA     ...</td>\n",
       "      <td>2025-01-01T03:00:00.000Z</td>\n",
       "      <td>None</td>\n",
       "      <td>0000/00</td>\n",
       "    </tr>\n",
       "    <tr>\n",
       "      <th>1</th>\n",
       "      <td>057</td>\n",
       "      <td>202500</td>\n",
       "      <td>3</td>\n",
       "      <td>202501</td>\n",
       "      <td>HOSPITAL DISTRITAL  MARIA JOSE BARROSO DE OLIV...</td>\n",
       "      <td>2025-01-01T03:00:00.000Z</td>\n",
       "      <td>None</td>\n",
       "      <td>0000/00</td>\n",
       "    </tr>\n",
       "    <tr>\n",
       "      <th>2</th>\n",
       "      <td>057</td>\n",
       "      <td>202500</td>\n",
       "      <td>4</td>\n",
       "      <td>202501</td>\n",
       "      <td>HOSPITAL DISTRITAL GONZAGA MOTA/MESSEJANA     ...</td>\n",
       "      <td>2025-01-01T03:00:00.000Z</td>\n",
       "      <td>None</td>\n",
       "      <td>0000/00</td>\n",
       "    </tr>\n",
       "    <tr>\n",
       "      <th>3</th>\n",
       "      <td>057</td>\n",
       "      <td>202500</td>\n",
       "      <td>5</td>\n",
       "      <td>202501</td>\n",
       "      <td>HOSPITAL DISTRITAL GONZAGA MOTA/BARRA DO CEARA...</td>\n",
       "      <td>2025-01-01T03:00:00.000Z</td>\n",
       "      <td>None</td>\n",
       "      <td>0000/00</td>\n",
       "    </tr>\n",
       "    <tr>\n",
       "      <th>4</th>\n",
       "      <td>057</td>\n",
       "      <td>202500</td>\n",
       "      <td>6</td>\n",
       "      <td>202501</td>\n",
       "      <td>HOSPITAL DISTRITAL GONZAGA MOTA/JOSE WALTER   ...</td>\n",
       "      <td>2025-01-01T03:00:00.000Z</td>\n",
       "      <td>None</td>\n",
       "      <td>0000/00</td>\n",
       "    </tr>\n",
       "  </tbody>\n",
       "</table>\n",
       "</div>"
      ],
      "text/plain": [
       "  codigo_municipio  exercicio_orcamento  codigo_unidade_gestora  \\\n",
       "0              057               202500                       2   \n",
       "1              057               202500                       3   \n",
       "2              057               202500                       4   \n",
       "3              057               202500                       5   \n",
       "4              057               202500                       6   \n",
       "\n",
       "   data_referencia                               nome_unidade_gestora  \\\n",
       "0           202501  HOSPITAL DISTRITAL EVANDRO AYRES DE MOURA     ...   \n",
       "1           202501  HOSPITAL DISTRITAL  MARIA JOSE BARROSO DE OLIV...   \n",
       "2           202501  HOSPITAL DISTRITAL GONZAGA MOTA/MESSEJANA     ...   \n",
       "3           202501  HOSPITAL DISTRITAL GONZAGA MOTA/BARRA DO CEARA...   \n",
       "4           202501  HOSPITAL DISTRITAL GONZAGA MOTA/JOSE WALTER   ...   \n",
       "\n",
       "               data_criacao data_extincao numero_lei_criacao  \n",
       "0  2025-01-01T03:00:00.000Z          None            0000/00  \n",
       "1  2025-01-01T03:00:00.000Z          None            0000/00  \n",
       "2  2025-01-01T03:00:00.000Z          None            0000/00  \n",
       "3  2025-01-01T03:00:00.000Z          None            0000/00  \n",
       "4  2025-01-01T03:00:00.000Z          None            0000/00  "
      ]
     },
     "execution_count": 15,
     "metadata": {},
     "output_type": "execute_result"
    }
   ],
   "source": [
    "dt_unidades.head()"
   ]
  },
  {
   "cell_type": "code",
   "execution_count": 16,
   "id": "7cca6c67",
   "metadata": {},
   "outputs": [
    {
     "name": "stdout",
     "output_type": "stream",
     "text": [
      "<class 'pandas.core.frame.DataFrame'>\n",
      "RangeIndex: 78 entries, 0 to 77\n",
      "Data columns (total 8 columns):\n",
      " #   Column                  Non-Null Count  Dtype \n",
      "---  ------                  --------------  ----- \n",
      " 0   codigo_municipio        78 non-null     object\n",
      " 1   exercicio_orcamento     78 non-null     int64 \n",
      " 2   codigo_unidade_gestora  78 non-null     int64 \n",
      " 3   data_referencia         78 non-null     int64 \n",
      " 4   nome_unidade_gestora    78 non-null     object\n",
      " 5   data_criacao            78 non-null     object\n",
      " 6   data_extincao           0 non-null      object\n",
      " 7   numero_lei_criacao      78 non-null     object\n",
      "dtypes: int64(3), object(5)\n",
      "memory usage: 5.0+ KB\n"
     ]
    }
   ],
   "source": [
    "dt_unidades.info()"
   ]
  }
 ],
 "metadata": {
  "kernelspec": {
   "display_name": ".venv (3.12.7)",
   "language": "python",
   "name": "python3"
  },
  "language_info": {
   "codemirror_mode": {
    "name": "ipython",
    "version": 3
   },
   "file_extension": ".py",
   "mimetype": "text/x-python",
   "name": "python",
   "nbconvert_exporter": "python",
   "pygments_lexer": "ipython3",
   "version": "3.12.7"
  }
 },
 "nbformat": 4,
 "nbformat_minor": 5
}
