{
 "cells": [
  {
   "cell_type": "code",
   "execution_count": null,
   "id": "fb68e323",
   "metadata": {},
   "outputs": [
    {
     "name": "stderr",
     "output_type": "stream",
     "text": [
      "25/09/17 08:51:55 WARN Utils: Service 'SparkUI' could not bind on port 4040. Attempting port 4041.\n",
      "                                                                                \r"
     ]
    },
    {
     "name": "stdout",
     "output_type": "stream",
     "text": [
      "A palavra 'Alma' apareceu 849 vezes no arquivo 'livros.txt'.\n"
     ]
    }
   ],
   "source": [
    "from pyspark.sql import SparkSession\n",
    "\n",
    "# definir a palavra alvo\n",
    "target = 'Alma'\n",
    "# criar sessão Spark\n",
    "spark = SparkSession.builder.appName(\"count_word\").getOrCreate()\n",
    "\n",
    "# ler o arquivo de texto e criar RDD\n",
    "rdd = spark.sparkContext.textFile('livros.txt')\n",
    "\n",
    "# transformação: Quebrar cada linha em palavras\n",
    "rdd = rdd.flatMap(lambda linha: linha.split(\" \"))\n",
    "# transformação: Filtrar apenas a palavra que nos interessa\n",
    "rdd = rdd.filter(lambda palavra: palavra == target)\n",
    "# ação: Contar quantas vezes a palavra aparece\n",
    "count = rdd.filter(lambda w: w == target).count()\n",
    "\n",
    "print(f\"A palavra '{target}' apareceu {count} vezes no arquivo 'livros.txt'.\")\n",
    "\n",
    "# parar a sessão Spark\n",
    "spark.stop()\n",
    "\n"
   ]
  }
 ],
 "metadata": {
  "kernelspec": {
   "display_name": ".venv (3.12.7)",
   "language": "python",
   "name": "python3"
  },
  "language_info": {
   "codemirror_mode": {
    "name": "ipython",
    "version": 3
   },
   "file_extension": ".py",
   "mimetype": "text/x-python",
   "name": "python",
   "nbconvert_exporter": "python",
   "pygments_lexer": "ipython3",
   "version": "3.12.7"
  }
 },
 "nbformat": 4,
 "nbformat_minor": 5
}
