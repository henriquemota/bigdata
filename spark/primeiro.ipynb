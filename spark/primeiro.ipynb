{
 "cells": [
  {
   "cell_type": "code",
   "execution_count": 9,
   "id": "fb68e323",
   "metadata": {},
   "outputs": [
    {
     "name": "stderr",
     "output_type": "stream",
     "text": [
      "25/09/17 08:51:55 WARN Utils: Service 'SparkUI' could not bind on port 4040. Attempting port 4041.\n",
      "                                                                                \r"
     ]
    },
    {
     "name": "stdout",
     "output_type": "stream",
     "text": [
      "A palavra 'Alma' apareceu 849 vezes no arquivo 'livros.txt'.\n"
     ]
    }
   ],
   "source": [
    "from pyspark.sql import SparkSession\n",
    "import sys\n",
    "\n",
    "def main():\n",
    "    target = 'Alma'\n",
    "    spark = SparkSession.builder.appName(\"count_word\").getOrCreate()\n",
    "    try:\n",
    "        rdd = spark.sparkContext.textFile('livros.txt')\n",
    "    except Exception as e:\n",
    "        print(f\"Erro ao abrir arquivo: {e}\", file=sys.stderr)\n",
    "        spark.stop()\n",
    "        sys.exit(1)\n",
    "\n",
    "    rdd = rdd.flatMap(lambda linha: linha.split(\" \"))\n",
    "    rdd = rdd.filter(lambda palavra: palavra == target)\n",
    "    count = rdd.filter(lambda w: w == target).count()\n",
    "\n",
    "    print(f\"A palavra '{target}' apareceu {count} vezes no arquivo 'livros.txt'.\")\n",
    "    spark.stop()\n",
    "\n",
    "if __name__ == \"__main__\":\n",
    "    main()"
   ]
  }
 ],
 "metadata": {
  "kernelspec": {
   "display_name": ".venv (3.12.7)",
   "language": "python",
   "name": "python3"
  },
  "language_info": {
   "codemirror_mode": {
    "name": "ipython",
    "version": 3
   },
   "file_extension": ".py",
   "mimetype": "text/x-python",
   "name": "python",
   "nbconvert_exporter": "python",
   "pygments_lexer": "ipython3",
   "version": "3.12.7"
  }
 },
 "nbformat": 4,
 "nbformat_minor": 5
}
